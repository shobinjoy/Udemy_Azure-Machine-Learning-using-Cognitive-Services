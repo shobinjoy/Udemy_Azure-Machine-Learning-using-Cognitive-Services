{
  "nbformat": 4,
  "nbformat_minor": 0,
  "metadata": {
    "colab": {
      "name": "LUIS.ipynb",
      "provenance": []
    },
    "kernelspec": {
      "name": "python3",
      "display_name": "Python 3"
    }
  },
  "cells": [
    {
      "cell_type": "markdown",
      "metadata": {
        "id": "XwkHpJ5IWP7V"
      },
      "source": [
        "# Language Understanding Intelligent Service"
      ]
    },
    {
      "cell_type": "code",
      "metadata": {
        "id": "gf3EymdSRXHa"
      },
      "source": [
        "endpoint = 'https://shobin-luis.cognitiveservices.azure.com/luis/prediction/v3.0/apps/56d5539e-f8e5-45a6-8d2f-541d18afafca/slots/production/predict?subscription-key=ba7899eb39aa487681d4f7a148486f3d&verbose=true&show-all-intents=true&log=true&query='"
      ],
      "execution_count": 1,
      "outputs": []
    },
    {
      "cell_type": "code",
      "metadata": {
        "id": "6Bb_bamiRczW"
      },
      "source": [
        "import json, requests"
      ],
      "execution_count": 2,
      "outputs": []
    },
    {
      "cell_type": "code",
      "metadata": {
        "colab": {
          "base_uri": "https://localhost:8080/"
        },
        "id": "Dmgn2YXmRqXL",
        "outputId": "437eeb70-47dc-4cc3-ee8e-52a2ed9d9a3d"
      },
      "source": [
        "query = input('Please write the command: ')\n",
        "\n",
        "request_url = endpoint + query.replace(' ', '+') #Add '+' between each word\n",
        "\n",
        "response = requests.get(request_url)\n",
        "jsonData = response.content.decode('UTF-8')\n",
        "data = json.loads(jsonData)\n",
        "\n",
        "print(data)"
      ],
      "execution_count": 3,
      "outputs": [
        {
          "output_type": "stream",
          "text": [
            "Please write the command: good night\n",
            "{'query': 'good night', 'prediction': {'topIntent': 'CloseShades', 'intents': {'CloseShades': {'score': 0.22115713}, 'None': {'score': 0.13308446}, 'openshades': {'score': 0.12055322}}, 'entities': {}}}\n"
          ],
          "name": "stdout"
        }
      ]
    },
    {
      "cell_type": "code",
      "metadata": {
        "colab": {
          "base_uri": "https://localhost:8080/"
        },
        "id": "jrNWMhAQSnsJ",
        "outputId": "5b6aaac4-e186-487c-94e6-c6795bebb2ac"
      },
      "source": [
        "intent = data['prediction']['topIntent']\n",
        "print(intent)"
      ],
      "execution_count": 4,
      "outputs": [
        {
          "output_type": "stream",
          "text": [
            "CloseShades\n"
          ],
          "name": "stdout"
        }
      ]
    },
    {
      "cell_type": "code",
      "metadata": {
        "colab": {
          "base_uri": "https://localhost:8080/"
        },
        "id": "9c6BqCGRTMma",
        "outputId": "91deae7e-c5da-40d5-f79e-79289f285e3a"
      },
      "source": [
        "if(intent == 'OpenShades'):\n",
        "  print('Opening the shades...')\n",
        "elif(intent == 'CloseShades'):\n",
        "  print('Closing the shades...')\n",
        "else:\n",
        "  print(\"Sorry, I didn't catch that\")"
      ],
      "execution_count": 5,
      "outputs": [
        {
          "output_type": "stream",
          "text": [
            "Closing the shades...\n"
          ],
          "name": "stdout"
        }
      ]
    },
    {
      "cell_type": "code",
      "metadata": {
        "id": "VEGu3lFOTnfB",
        "outputId": "2e5fc98f-00ea-4444-84ea-a92da585350c",
        "colab": {
          "base_uri": "https://localhost:8080/"
        }
      },
      "source": [
        "query = input('Please write the command: ')\n",
        "\n",
        "request_url = endpoint + query.replace(' ', '+') #Add '+' between each word\n",
        "\n",
        "response = requests.get(request_url)\n",
        "jsonData = response.content.decode('UTF-8')\n",
        "data = json.loads(jsonData)\n",
        "\n",
        "print(data)"
      ],
      "execution_count": 10,
      "outputs": [
        {
          "output_type": "stream",
          "text": [
            "Please write the command: please open the shade\n",
            "{'query': 'please open the shade', 'prediction': {'topIntent': 'openshades', 'intents': {'openshades': {'score': 0.57398957}, 'CloseShades': {'score': 0.07747582}, 'None': {'score': 0.056523226}}, 'entities': {}}}\n"
          ],
          "name": "stdout"
        }
      ]
    },
    {
      "cell_type": "code",
      "metadata": {
        "id": "0QrsL2dqVkXb",
        "outputId": "36babae8-eb44-417a-8196-3b84906710df",
        "colab": {
          "base_uri": "https://localhost:8080/"
        }
      },
      "source": [
        "intent = data['prediction']['topIntent']\n",
        "print(intent)"
      ],
      "execution_count": 11,
      "outputs": [
        {
          "output_type": "stream",
          "text": [
            "openshades\n"
          ],
          "name": "stdout"
        }
      ]
    },
    {
      "cell_type": "code",
      "metadata": {
        "id": "zS-0fz7bVoyS"
      },
      "source": [
        ""
      ],
      "execution_count": null,
      "outputs": []
    }
  ]
}