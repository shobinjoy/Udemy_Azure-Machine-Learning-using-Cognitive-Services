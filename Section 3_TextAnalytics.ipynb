{
  "nbformat": 4,
  "nbformat_minor": 0,
  "metadata": {
    "colab": {
      "name": "TextAnalytics",
      "provenance": [],
      "toc_visible": true,
      "include_colab_link": true
    },
    "kernelspec": {
      "name": "python3",
      "display_name": "Python 3"
    }
  },
  "cells": [
    {
      "cell_type": "markdown",
      "metadata": {
        "id": "view-in-github",
        "colab_type": "text"
      },
      "source": [
        "<a href=\"https://colab.research.google.com/github/shobinjoy/Udemy_Azure-Machine-Learning-using-Cognitive-Services/blob/main/Section%203_TextAnalytics.ipynb\" target=\"_parent\"><img src=\"https://colab.research.google.com/assets/colab-badge.svg\" alt=\"Open In Colab\"/></a>"
      ]
    },
    {
      "cell_type": "markdown",
      "metadata": {
        "id": "uO76moNqaOEM"
      },
      "source": [
        "# Sentiment Analysis"
      ]
    },
    {
      "cell_type": "code",
      "metadata": {
        "id": "kvWYIvUrZN6A"
      },
      "source": [
        "textAnalyticsEndpoint = 'shobin-ta.cognitiveservices.azure.com' #'southcentralus.api.cognitive.microsoft.com' https://shobin-ta.cognitiveservices.azure.com/\n",
        "textAnalyticsKey = 'xxxxxxxxxxxxxxxxxxxx'"
      ],
      "execution_count": 1,
      "outputs": []
    },
    {
      "cell_type": "code",
      "metadata": {
        "id": "jhUa1ATpZsmW"
      },
      "source": [
        "import urllib.parse, http.client, urllib.request, urllib.error, json"
      ],
      "execution_count": 2,
      "outputs": []
    },
    {
      "cell_type": "code",
      "metadata": {
        "id": "tr6jI9uiaEEp"
      },
      "source": [
        "headers = {\n",
        "    'Content-Type' : 'application/json',\n",
        "    'Ocp-Apim-Subscription-Key' : textAnalyticsKey,\n",
        "    'Accept' : 'application/json'\n",
        "}\n",
        "\n",
        "body = {\n",
        "    'documents' : [\n",
        "      {\n",
        "          'language' : 'en',\n",
        "          'id' : '1',\n",
        "          'text' : 'Wow! I am loving this course!'\n",
        "      },\n",
        "      {\n",
        "          'language' : 'en',\n",
        "          'id' : '2',\n",
        "          'text' : 'This course is not working for me right now.'\n",
        "      },  \n",
        "      {\n",
        "          'language' : 'en',\n",
        "          'id' : '3',\n",
        "          'text' : 'I forgot to send the check.'\n",
        "      }         \n",
        "    ]\n",
        "}\n",
        "\n",
        "params = urllib.parse.urlencode({})"
      ],
      "execution_count": 14,
      "outputs": []
    },
    {
      "cell_type": "code",
      "metadata": {
        "colab": {
          "base_uri": "https://localhost:8080/"
        },
        "id": "JiZ6ZKTucFSn",
        "outputId": "7b176acf-ae80-4f1e-ccd8-0a61de09f472"
      },
      "source": [
        "# API Documentation - \n",
        "# https://westus.dev.cognitive.microsoft.com/docs/services/TextAnalytics-v2-1/operations/56f30ceeeda5650db055a3c7\n",
        "try:\n",
        "  conn = http.client.HTTPSConnection(textAnalyticsEndpoint)\n",
        "  conn.request('POST', '/text/analytics/v2.1/sentiment?%s' % params, str(body), headers)\n",
        "  response = conn.getresponse()\n",
        "  jsonData = response.read().decode('UTF-8')\n",
        "  data = json.loads(jsonData)\n",
        "  for document in data['documents']:\n",
        "    sentiment = 'positive'\n",
        "    if document['score'] <= 0.5:\n",
        "      sentiment = 'negative'\n",
        "    print('Document ' + document['id'] + ' has a ' + sentiment + ' sentiment.')\n",
        "  conn.close()\n",
        "  print(json.dumps(data, indent = 2))\n",
        "except Exception as ex:\n",
        "  print(ex)"
      ],
      "execution_count": 12,
      "outputs": [
        {
          "output_type": "stream",
          "text": [
            "Document 1 has a positive sentiment.\n",
            "Document 2 has a negative sentiment.\n",
            "Document 3 has a negative sentiment.\n",
            "{\n",
            "  \"documents\": [\n",
            "    {\n",
            "      \"id\": \"1\",\n",
            "      \"score\": 0.9785603880882263\n",
            "    },\n",
            "    {\n",
            "      \"id\": \"2\",\n",
            "      \"score\": 0.004374384880065918\n",
            "    },\n",
            "    {\n",
            "      \"id\": \"3\",\n",
            "      \"score\": 0.0070199668407440186\n",
            "    }\n",
            "  ],\n",
            "  \"errors\": []\n",
            "}\n"
          ],
          "name": "stdout"
        }
      ]
    },
    {
      "cell_type": "code",
      "metadata": {
        "colab": {
          "base_uri": "https://localhost:8080/"
        },
        "id": "O6QanNlhS-kw",
        "outputId": "4c481211-ece8-4414-e049-cdd3e0e56cc7"
      },
      "source": [
        "# API Documentation - \n",
        "# https://westus.dev.cognitive.microsoft.com/docs/services/TextAnalytics-v3-1-Preview-1/operations/Sentiment\n",
        "try:\n",
        "  conn = http.client.HTTPSConnection(textAnalyticsEndpoint)\n",
        "  conn.request('POST', '/text/analytics/v3.1-preview.1/sentiment?%s' % params, str(body), headers) \n",
        "  response = conn.getresponse()\n",
        "  jsonData = response.read().decode('UTF-8')\n",
        "  data = json.loads(jsonData)\n",
        "  \n",
        "  for document in data['documents']:\n",
        "    #sentiment = 'positive'    \n",
        "    sentiment  = max(document['confidenceScores'], key = document['confidenceScores'].get)   \n",
        "    print('Document ' + document['id'] + ' has a ' + sentiment + ' sentiment with score ' + \n",
        "          str(document['confidenceScores'][sentiment]))\n",
        "  print(json.dumps(data, indent = 2))\n",
        "  conn.close()\n",
        "except Exception as ex:\n",
        "  print(ex)"
      ],
      "execution_count": 15,
      "outputs": [
        {
          "output_type": "stream",
          "text": [
            "Document 1 has a positive sentiment with score 1.0\n",
            "Document 2 has a negative sentiment with score 0.97\n",
            "Document 3 has a neutral sentiment with score 0.98\n",
            "{\n",
            "  \"documents\": [\n",
            "    {\n",
            "      \"id\": \"1\",\n",
            "      \"sentiment\": \"positive\",\n",
            "      \"confidenceScores\": {\n",
            "        \"positive\": 1.0,\n",
            "        \"neutral\": 0.0,\n",
            "        \"negative\": 0.0\n",
            "      },\n",
            "      \"sentences\": [\n",
            "        {\n",
            "          \"sentiment\": \"positive\",\n",
            "          \"confidenceScores\": {\n",
            "            \"positive\": 1.0,\n",
            "            \"neutral\": 0.0,\n",
            "            \"negative\": 0.0\n",
            "          },\n",
            "          \"offset\": 0,\n",
            "          \"length\": 4,\n",
            "          \"text\": \"Wow!\"\n",
            "        },\n",
            "        {\n",
            "          \"sentiment\": \"positive\",\n",
            "          \"confidenceScores\": {\n",
            "            \"positive\": 1.0,\n",
            "            \"neutral\": 0.0,\n",
            "            \"negative\": 0.0\n",
            "          },\n",
            "          \"offset\": 5,\n",
            "          \"length\": 24,\n",
            "          \"text\": \"I am loving this course!\"\n",
            "        }\n",
            "      ],\n",
            "      \"warnings\": []\n",
            "    },\n",
            "    {\n",
            "      \"id\": \"2\",\n",
            "      \"sentiment\": \"negative\",\n",
            "      \"confidenceScores\": {\n",
            "        \"positive\": 0.0,\n",
            "        \"neutral\": 0.03,\n",
            "        \"negative\": 0.97\n",
            "      },\n",
            "      \"sentences\": [\n",
            "        {\n",
            "          \"sentiment\": \"negative\",\n",
            "          \"confidenceScores\": {\n",
            "            \"positive\": 0.0,\n",
            "            \"neutral\": 0.03,\n",
            "            \"negative\": 0.97\n",
            "          },\n",
            "          \"offset\": 0,\n",
            "          \"length\": 44,\n",
            "          \"text\": \"This course is not working for me right now.\"\n",
            "        }\n",
            "      ],\n",
            "      \"warnings\": []\n",
            "    },\n",
            "    {\n",
            "      \"id\": \"3\",\n",
            "      \"sentiment\": \"neutral\",\n",
            "      \"confidenceScores\": {\n",
            "        \"positive\": 0.01,\n",
            "        \"neutral\": 0.98,\n",
            "        \"negative\": 0.01\n",
            "      },\n",
            "      \"sentences\": [\n",
            "        {\n",
            "          \"sentiment\": \"neutral\",\n",
            "          \"confidenceScores\": {\n",
            "            \"positive\": 0.01,\n",
            "            \"neutral\": 0.98,\n",
            "            \"negative\": 0.01\n",
            "          },\n",
            "          \"offset\": 0,\n",
            "          \"length\": 27,\n",
            "          \"text\": \"I forgot to send the check.\"\n",
            "        }\n",
            "      ],\n",
            "      \"warnings\": []\n",
            "    }\n",
            "  ],\n",
            "  \"errors\": [],\n",
            "  \"modelVersion\": \"2020-04-01\"\n",
            "}\n"
          ],
          "name": "stdout"
        }
      ]
    },
    {
      "cell_type": "markdown",
      "metadata": {
        "id": "GYQEyuZormRY"
      },
      "source": [
        "# Key Phrases"
      ]
    },
    {
      "cell_type": "code",
      "metadata": {
        "id": "wtLmcK4_d7hu",
        "colab": {
          "base_uri": "https://localhost:8080/"
        },
        "outputId": "7b2045c1-f7f8-4c8c-89d4-3672b20c5b54"
      },
      "source": [
        "#API Documentation\n",
        "# https://westus.dev.cognitive.microsoft.com/docs/services/TextAnalytics-v2-1/operations/56f30ceeeda5650db055a3c6\n",
        "try:\n",
        "  conn = http.client.HTTPSConnection(textAnalyticsEndpoint)\n",
        "  conn.request('POST', '/text/analytics/v2.1/keyPhrases%s' % params, str(body), headers)\n",
        "  response = conn.getresponse()\n",
        "  jsonData = response.read().decode('UTF-8')\n",
        "  data = json.loads(jsonData)\n",
        "  print(json.dumps(data, indent  = 2))\n",
        "  for document in data['documents']:\n",
        "    print('Document ' + document['id'] + ' has these key phrases:')\n",
        "    for phrase in document['keyPhrases']:\n",
        "      print(' ' + phrase)\n",
        "    print('---------------------')\n",
        "  conn.close()\n",
        "except Exception as ex:\n",
        "  print(ex)"
      ],
      "execution_count": 19,
      "outputs": [
        {
          "output_type": "stream",
          "text": [
            "{\n",
            "  \"documents\": [\n",
            "    {\n",
            "      \"id\": \"1\",\n",
            "      \"keyPhrases\": [\n",
            "        \"Wow\",\n",
            "        \"course\"\n",
            "      ]\n",
            "    },\n",
            "    {\n",
            "      \"id\": \"2\",\n",
            "      \"keyPhrases\": [\n",
            "        \"course\"\n",
            "      ]\n",
            "    },\n",
            "    {\n",
            "      \"id\": \"3\",\n",
            "      \"keyPhrases\": [\n",
            "        \"check\"\n",
            "      ]\n",
            "    }\n",
            "  ],\n",
            "  \"errors\": []\n",
            "}\n",
            "Document 1 has these key phrases:\n",
            " Wow\n",
            " course\n",
            "---------------------\n",
            "Document 2 has these key phrases:\n",
            " course\n",
            "---------------------\n",
            "Document 3 has these key phrases:\n",
            " check\n",
            "---------------------\n"
          ],
          "name": "stdout"
        }
      ]
    },
    {
      "cell_type": "code",
      "metadata": {
        "colab": {
          "base_uri": "https://localhost:8080/"
        },
        "id": "Ye0ZXimQV2Ko",
        "outputId": "470a2c15-a41e-4c4d-8bde-f46ff2efe986"
      },
      "source": [
        "#API Documentation\n",
        "# https://westus.dev.cognitive.microsoft.com/docs/services/TextAnalytics-v3-1-Preview-1/operations/KeyPhrases\n",
        "try:\n",
        "  conn = http.client.HTTPSConnection(textAnalyticsEndpoint)\n",
        "  conn.request('POST', '/text/analytics/v3.1-preview.1/keyPhrases%s' % params, str(body), headers)\n",
        "  response = conn.getresponse()\n",
        "  jsonData = response.read().decode('UTF-8')\n",
        "  data = json.loads(jsonData)\n",
        "  print(json.dumps(data, indent  = 2))\n",
        "  for document in data['documents']:\n",
        "    print('Document ' + document['id'] + ' has these key phrases:')\n",
        "    for phrase in document['keyPhrases']:\n",
        "      print(' ' + phrase)\n",
        "    print('---------------------')\n",
        "  conn.close()\n",
        "except Exception as ex:\n",
        "  print(ex)"
      ],
      "execution_count": 18,
      "outputs": [
        {
          "output_type": "stream",
          "text": [
            "{\n",
            "  \"documents\": [\n",
            "    {\n",
            "      \"id\": \"1\",\n",
            "      \"keyPhrases\": [\n",
            "        \"Wow\",\n",
            "        \"course\"\n",
            "      ],\n",
            "      \"warnings\": []\n",
            "    },\n",
            "    {\n",
            "      \"id\": \"2\",\n",
            "      \"keyPhrases\": [\n",
            "        \"course\"\n",
            "      ],\n",
            "      \"warnings\": []\n",
            "    },\n",
            "    {\n",
            "      \"id\": \"3\",\n",
            "      \"keyPhrases\": [\n",
            "        \"check\"\n",
            "      ],\n",
            "      \"warnings\": []\n",
            "    }\n",
            "  ],\n",
            "  \"errors\": [],\n",
            "  \"modelVersion\": \"2020-07-01\"\n",
            "}\n",
            "Document 1 has these key phrases:\n",
            " Wow\n",
            " course\n",
            "---------------------\n",
            "Document 2 has these key phrases:\n",
            " course\n",
            "---------------------\n",
            "Document 3 has these key phrases:\n",
            " check\n",
            "---------------------\n"
          ],
          "name": "stdout"
        }
      ]
    },
    {
      "cell_type": "markdown",
      "metadata": {
        "id": "vTokvR-RuIxJ"
      },
      "source": [
        "# Removing Stopwords"
      ]
    },
    {
      "cell_type": "code",
      "metadata": {
        "colab": {
          "base_uri": "https://localhost:8080/"
        },
        "id": "LaYisTSYXUZo",
        "outputId": "cde43d64-0dc8-4940-f3d3-d3e00742f2c7"
      },
      "source": [
        "!curl http://www.sthda.com/sthda/RDoc/example-files/martin-luther-king-i-have-a-dream-speech.txt -o speech.txt"
      ],
      "execution_count": 20,
      "outputs": [
        {
          "output_type": "stream",
          "text": [
            "  % Total    % Received % Xferd  Average Speed   Time    Time     Time  Current\n",
            "                                 Dload  Upload   Total   Spent    Left  Speed\n",
            "100  3307  100  3307    0     0   6287      0 --:--:-- --:--:-- --:--:--  6287\n"
          ],
          "name": "stdout"
        }
      ]
    },
    {
      "cell_type": "code",
      "metadata": {
        "colab": {
          "base_uri": "https://localhost:8080/"
        },
        "id": "mH0sbMP1uYn_",
        "outputId": "615a018d-f406-4b40-fc95-e7df565fd0dc"
      },
      "source": [
        "document = open('speech.txt', 'r')\n",
        "\n",
        "mlk_speech = document.read()\n",
        "print(mlk_speech)"
      ],
      "execution_count": 21,
      "outputs": [
        {
          "output_type": "stream",
          "text": [
            "\n",
            "And so even though we face the difficulties of today and tomorrow, I still have a dream. It is a dream deeply rooted in the American dream.\n",
            " \n",
            "I have a dream that one day this nation will rise up and live out the true meaning of its creed:\n",
            " \n",
            "We hold these truths to be self-evident, that all men are created equal.\n",
            " \n",
            "I have a dream that one day on the red hills of Georgia, the sons of former slaves and the sons of former slave owners will be able to sit down together at the table of brotherhood.\n",
            " \n",
            "I have a dream that one day even the state of Mississippi, a state sweltering with the heat of injustice, sweltering with the heat of oppression, will be transformed into an oasis of freedom and justice.\n",
            " \n",
            "I have a dream that my four little children will one day live in a nation where they will not be judged by the color of their skin but by the content of their character.\n",
            " \n",
            "I have a dream today!\n",
            " \n",
            "I have a dream that one day, down in Alabama, with its vicious racists, with its governor having his lips dripping with the words of interposition and nullification, one day right there in Alabama little black boys and black girls will be able to join hands with little white boys and white girls as sisters and brothers.\n",
            " \n",
            "I have a dream today!\n",
            " \n",
            "I have a dream that one day every valley shall be exalted, and every hill and mountain shall be made low, the rough places will be made plain, and the crooked places will be made straight; and the glory of the Lord shall be revealed and all flesh shall see it together.\n",
            " \n",
            "This is our hope, and this is the faith that I go back to the South with.\n",
            " \n",
            "With this faith, we will be able to hew out of the mountain of despair a stone of hope. With this faith, we will be able to transform the jangling discords of our nation into a beautiful symphony of brotherhood. With this faith, we will be able to work together, to pray together, to struggle together, to go to jail together, to stand up for freedom together, knowing that we will be free one day.\n",
            " \n",
            "And this will be the day, this will be the day when all of God s children will be able to sing with new meaning:\n",
            " \n",
            "My country  tis of thee, sweet land of liberty, of thee I sing.\n",
            "Land where my fathers died, land of the Pilgrim s pride,\n",
            "From every mountainside, let freedom ring!\n",
            "And if America is to be a great nation, this must become true.\n",
            "And so let freedom ring from the prodigious hilltops of New Hampshire.\n",
            "Let freedom ring from the mighty mountains of New York.\n",
            "Let freedom ring from the heightening Alleghenies of Pennsylvania.\n",
            "Let freedom ring from the snow-capped Rockies of Colorado.\n",
            "Let freedom ring from the curvaceous slopes of California.\n",
            " \n",
            "But not only that:\n",
            "Let freedom ring from Stone Mountain of Georgia.\n",
            "Let freedom ring from Lookout Mountain of Tennessee.\n",
            "Let freedom ring from every hill and molehill of Mississippi.\n",
            "From every mountainside, let freedom ring.\n",
            "And when this happens, when we allow freedom ring, when we let it ring from every village and every hamlet, from every state and every city, we will be able to speed up that day when all of God s children, black men and white men, Jews and Gentiles, Protestants and Catholics, will be able to join hands and sing in the words of the old Negro spiritual:\n",
            "Free at last! Free at last!\n",
            " \n",
            "Thank God Almighty, we are free at last!\n",
            "\n"
          ],
          "name": "stdout"
        }
      ]
    },
    {
      "cell_type": "markdown",
      "metadata": {
        "id": "8tIeoE7jvz0H"
      },
      "source": [
        "## Remove numbers"
      ]
    },
    {
      "cell_type": "code",
      "metadata": {
        "id": "wKkTr9xAunjc"
      },
      "source": [
        "mlk_speech = ''.join(c for c in mlk_speech if not c.isdigit())"
      ],
      "execution_count": 22,
      "outputs": []
    },
    {
      "cell_type": "markdown",
      "metadata": {
        "id": "GKAiArHMwLf7"
      },
      "source": [
        "## Remove punctuation and make lower case"
      ]
    },
    {
      "cell_type": "code",
      "metadata": {
        "colab": {
          "base_uri": "https://localhost:8080/"
        },
        "id": "px8ExrQgwKJp",
        "outputId": "c0f43e17-3b7f-4c3e-b2f7-0ad2f4116fa6"
      },
      "source": [
        "from string import punctuation\n",
        "\n",
        "mlk_speech = ''.join(c for c in mlk_speech if c not in punctuation).lower()\n",
        "\n",
        "print(mlk_speech)"
      ],
      "execution_count": 23,
      "outputs": [
        {
          "output_type": "stream",
          "text": [
            "\n",
            "and so even though we face the difficulties of today and tomorrow i still have a dream it is a dream deeply rooted in the american dream\n",
            " \n",
            "i have a dream that one day this nation will rise up and live out the true meaning of its creed\n",
            " \n",
            "we hold these truths to be selfevident that all men are created equal\n",
            " \n",
            "i have a dream that one day on the red hills of georgia the sons of former slaves and the sons of former slave owners will be able to sit down together at the table of brotherhood\n",
            " \n",
            "i have a dream that one day even the state of mississippi a state sweltering with the heat of injustice sweltering with the heat of oppression will be transformed into an oasis of freedom and justice\n",
            " \n",
            "i have a dream that my four little children will one day live in a nation where they will not be judged by the color of their skin but by the content of their character\n",
            " \n",
            "i have a dream today\n",
            " \n",
            "i have a dream that one day down in alabama with its vicious racists with its governor having his lips dripping with the words of interposition and nullification one day right there in alabama little black boys and black girls will be able to join hands with little white boys and white girls as sisters and brothers\n",
            " \n",
            "i have a dream today\n",
            " \n",
            "i have a dream that one day every valley shall be exalted and every hill and mountain shall be made low the rough places will be made plain and the crooked places will be made straight and the glory of the lord shall be revealed and all flesh shall see it together\n",
            " \n",
            "this is our hope and this is the faith that i go back to the south with\n",
            " \n",
            "with this faith we will be able to hew out of the mountain of despair a stone of hope with this faith we will be able to transform the jangling discords of our nation into a beautiful symphony of brotherhood with this faith we will be able to work together to pray together to struggle together to go to jail together to stand up for freedom together knowing that we will be free one day\n",
            " \n",
            "and this will be the day this will be the day when all of god s children will be able to sing with new meaning\n",
            " \n",
            "my country  tis of thee sweet land of liberty of thee i sing\n",
            "land where my fathers died land of the pilgrim s pride\n",
            "from every mountainside let freedom ring\n",
            "and if america is to be a great nation this must become true\n",
            "and so let freedom ring from the prodigious hilltops of new hampshire\n",
            "let freedom ring from the mighty mountains of new york\n",
            "let freedom ring from the heightening alleghenies of pennsylvania\n",
            "let freedom ring from the snowcapped rockies of colorado\n",
            "let freedom ring from the curvaceous slopes of california\n",
            " \n",
            "but not only that\n",
            "let freedom ring from stone mountain of georgia\n",
            "let freedom ring from lookout mountain of tennessee\n",
            "let freedom ring from every hill and molehill of mississippi\n",
            "from every mountainside let freedom ring\n",
            "and when this happens when we allow freedom ring when we let it ring from every village and every hamlet from every state and every city we will be able to speed up that day when all of god s children black men and white men jews and gentiles protestants and catholics will be able to join hands and sing in the words of the old negro spiritual\n",
            "free at last free at last\n",
            " \n",
            "thank god almighty we are free at last\n",
            "\n"
          ],
          "name": "stdout"
        }
      ]
    },
    {
      "cell_type": "markdown",
      "metadata": {
        "id": "3JYi3r4Pwtvp"
      },
      "source": [
        "## Remove stopwords"
      ]
    },
    {
      "cell_type": "code",
      "metadata": {
        "colab": {
          "base_uri": "https://localhost:8080/"
        },
        "id": "9F96ayWtwec2",
        "outputId": "2ca0164a-c3d9-4c2f-df3f-3ecc3d30f2d7"
      },
      "source": [
        "import nltk\n",
        "nltk.download('stopwords')\n",
        "from nltk.corpus import stopwords\n",
        "\n",
        "mlk_speech = ' '.join([word for word in mlk_speech.split() if word not in (stopwords.words('english'))])\n",
        "\n",
        "print(mlk_speech)"
      ],
      "execution_count": 24,
      "outputs": [
        {
          "output_type": "stream",
          "text": [
            "[nltk_data] Downloading package stopwords to /root/nltk_data...\n",
            "[nltk_data]   Unzipping corpora/stopwords.zip.\n",
            "even though face difficulties today tomorrow still dream dream deeply rooted american dream dream one day nation rise live true meaning creed hold truths selfevident men created equal dream one day red hills georgia sons former slaves sons former slave owners able sit together table brotherhood dream one day even state mississippi state sweltering heat injustice sweltering heat oppression transformed oasis freedom justice dream four little children one day live nation judged color skin content character dream today dream one day alabama vicious racists governor lips dripping words interposition nullification one day right alabama little black boys black girls able join hands little white boys white girls sisters brothers dream today dream one day every valley shall exalted every hill mountain shall made low rough places made plain crooked places made straight glory lord shall revealed flesh shall see together hope faith go back south faith able hew mountain despair stone hope faith able transform jangling discords nation beautiful symphony brotherhood faith able work together pray together struggle together go jail together stand freedom together knowing free one day day day god children able sing new meaning country tis thee sweet land liberty thee sing land fathers died land pilgrim pride every mountainside let freedom ring america great nation must become true let freedom ring prodigious hilltops new hampshire let freedom ring mighty mountains new york let freedom ring heightening alleghenies pennsylvania let freedom ring snowcapped rockies colorado let freedom ring curvaceous slopes california let freedom ring stone mountain georgia let freedom ring lookout mountain tennessee let freedom ring every hill molehill mississippi every mountainside let freedom ring happens allow freedom ring let ring every village every hamlet every state every city able speed day god children black men white men jews gentiles protestants catholics able join hands sing words old negro spiritual free last free last thank god almighty free last\n"
          ],
          "name": "stdout"
        }
      ]
    },
    {
      "cell_type": "markdown",
      "metadata": {
        "id": "JG3_lQjuyDdj"
      },
      "source": [
        "# Stemming Technique"
      ]
    },
    {
      "cell_type": "code",
      "metadata": {
        "colab": {
          "base_uri": "https://localhost:8080/"
        },
        "id": "Ym6Vzl5txdmQ",
        "outputId": "338eb61a-9661-45a8-9926-5b8fd02fead2"
      },
      "source": [
        "import nltk\n",
        "from nltk.stem.porter import PorterStemmer\n",
        "from nltk.probability import FreqDist\n",
        "import pandas as pd\n",
        "nltk.download('punkt')\n",
        "\n",
        "ps = PorterStemmer()\n",
        "words = nltk.tokenize.word_tokenize(mlk_speech)\n",
        "stems = [ps.stem(word) for word in words]\n",
        "\n",
        "fd = FreqDist(stems)\n",
        "fd_df = pd.DataFrame(fd, index=[0]).T\n",
        "\n",
        "print(fd_df)"
      ],
      "execution_count": 25,
      "outputs": [
        {
          "output_type": "stream",
          "text": [
            "[nltk_data] Downloading package punkt to /root/nltk_data...\n",
            "[nltk_data]   Unzipping tokenizers/punkt.zip.\n",
            "            0\n",
            "even        2\n",
            "though      1\n",
            "face        1\n",
            "difficulti  1\n",
            "today       3\n",
            "...        ..\n",
            "negro       1\n",
            "spiritu     1\n",
            "last        3\n",
            "thank       1\n",
            "almighti    1\n",
            "\n",
            "[162 rows x 1 columns]\n"
          ],
          "name": "stdout"
        }
      ]
    },
    {
      "cell_type": "code",
      "metadata": {
        "colab": {
          "base_uri": "https://localhost:8080/",
          "height": 617
        },
        "id": "T-LfkZuuzNM8",
        "outputId": "e6b56083-0409-41a4-a25e-0e739e520bc5"
      },
      "source": [
        "import matplotlib.pyplot as plt\n",
        "\n",
        "counts = fd_df.sort_values(0, ascending=False)\n",
        "ar = plt.figure(figsize=(16,9))\n",
        "ax = ar.gca()\n",
        "counts[0][:60].plot(kind='bar', ax=ax)\n",
        "ax.set_title('Frequency Distribution')\n",
        "ax.set_ylabel('Freq of words')\n",
        "ax.set_xlabel('Words')\n",
        "plt.show()"
      ],
      "execution_count": 26,
      "outputs": [
        {
          "output_type": "display_data",
          "data": {
            "image/png": "[encoded data removed]",
            "text/plain": [
              "<Figure size 1152x648 with 1 Axes>"
            ]
          },
          "metadata": {
            "tags": [],
            "needs_background": "light"
          }
        }
      ]
    },
    {
      "cell_type": "code",
      "metadata": {
        "id": "WAW4ZfZe0KCD"
      },
      "source": [
        ""
      ],
      "execution_count": null,
      "outputs": []
    }
  ]
}