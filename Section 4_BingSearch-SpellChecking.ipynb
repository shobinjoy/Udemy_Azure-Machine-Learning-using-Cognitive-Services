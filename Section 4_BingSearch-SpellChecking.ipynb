{
  "nbformat": 4,
  "nbformat_minor": 0,
  "metadata": {
    "colab": {
      "name": "SpellChecking.ipynb",
      "provenance": [],
      "include_colab_link": true
    },
    "kernelspec": {
      "name": "python3",
      "display_name": "Python 3"
    }
  },
  "cells": [
    {
      "cell_type": "markdown",
      "metadata": {
        "id": "view-in-github",
        "colab_type": "text"
      },
      "source": [
        "<a href=\"https://colab.research.google.com/github/shobinjoy/Udemy_Azure-Machine-Learning-using-Cognitive-Services/blob/main/Section%204_BingSearch-SpellChecking.ipynb\" target=\"_parent\"><img src=\"https://colab.research.google.com/assets/colab-badge.svg\" alt=\"Open In Colab\"/></a>"
      ]
    },
    {
      "cell_type": "code",
      "metadata": {
        "id": "HtKX5hx3rJZC"
      },
      "source": [
        "key = 'xxxxx'"
      ],
      "execution_count": null,
      "outputs": []
    },
    {
      "cell_type": "code",
      "metadata": {
        "colab": {
          "base_uri": "https://localhost:8080/"
        },
        "id": "mLV3-0gZs9dc",
        "outputId": "a2e995a1-de0e-4d11-8393-45338573a295"
      },
      "source": [
        "import http.client, json, urllib.request, urllib.parse, urllib.error, urllib\n",
        "\n",
        "headers = {\n",
        "    'Content-Type':'application/json',\n",
        "    'Ocp-Apim-Subscription-Key':key\n",
        "}\n",
        "\n",
        "body = {}\n",
        "\n",
        "# postContextText\n",
        "'''\n",
        "text = 'read'\n",
        "params = urllib.parse.urlencode({\n",
        "    'mkt':'en-US',\n",
        "    'setLang':'EN',\n",
        "    'text':text,\n",
        "    'postContextText':'carpet'\n",
        "})\n",
        "'''\n",
        "\n",
        "# preContextText\n",
        "text = 'petal'\n",
        "params = urllib.parse.urlencode({\n",
        "    'mkt':'en-US',\n",
        "    'setLang':'EN',\n",
        "    'text':text,\n",
        "    'preContextText':'bike'\n",
        "})\n",
        "\n",
        "service_url = 'api.bing.microsoft.com'\n",
        "endpoint = '/v7.0/spellcheck?%s' % params\n",
        "\n",
        "print(endpoint)"
      ],
      "execution_count": null,
      "outputs": [
        {
          "output_type": "stream",
          "text": [
            "/v7.0/spellcheck?mkt=en-US&setLang=EN&text=petal&preContextText=bike\n"
          ],
          "name": "stdout"
        }
      ]
    },
    {
      "cell_type": "code",
      "metadata": {
        "colab": {
          "base_uri": "https://localhost:8080/"
        },
        "id": "Ls6HIliZu8pn",
        "outputId": "121509a1-bd77-40dc-cbea-40fcd57827eb"
      },
      "source": [
        "try:\n",
        "  conn = http.client.HTTPSConnection(service_url)\n",
        "  conn.request('POST', endpoint, body, headers)\n",
        "  response = conn.getresponse()\n",
        "  jsonData = response.read().decode('UTF-8')\n",
        "  data = json.loads(jsonData)\n",
        "  for token in data['flaggedTokens']:\n",
        "    print('Change ' + token['token'] + ' for:')\n",
        "    for suggestion in token['suggestions']:\n",
        "      print(' ' + suggestion['suggestion'] + ' - ' + str(suggestion['score']))\n",
        "    print('-----------------------------')\n",
        "  conn.close()\n",
        "except Exception as ex:\n",
        "  print(ex)"
      ],
      "execution_count": null,
      "outputs": [
        {
          "output_type": "stream",
          "text": [
            "Change petal for:\n",
            " pedal - 0.8957559503800947\n",
            "-----------------------------\n"
          ],
          "name": "stdout"
        }
      ]
    },
    {
      "cell_type": "code",
      "metadata": {
        "id": "KUuj62yvv5RR"
      },
      "source": [
        ""
      ],
      "execution_count": null,
      "outputs": []
    }
  ]
}