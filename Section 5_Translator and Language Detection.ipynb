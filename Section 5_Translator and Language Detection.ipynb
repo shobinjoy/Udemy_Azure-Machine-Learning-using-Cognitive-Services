{
  "nbformat": 4,
  "nbformat_minor": 0,
  "metadata": {
    "colab": {
      "name": "Translator",
      "provenance": [],
      "include_colab_link": true
    },
    "kernelspec": {
      "name": "python3",
      "display_name": "Python 3"
    }
  },
  "cells": [
    {
      "cell_type": "markdown",
      "metadata": {
        "id": "view-in-github",
        "colab_type": "text"
      },
      "source": [
        "<a href=\"https://colab.research.google.com/github/shobinjoy/Udemy_Azure-Machine-Learning-using-Cognitive-Services/blob/main/Section%205_Translator%20and%20Language%20Detection.ipynb\" target=\"_parent\"><img src=\"https://colab.research.google.com/assets/colab-badge.svg\" alt=\"Open In Colab\"/></a>"
      ]
    },
    {
      "cell_type": "markdown",
      "metadata": {
        "id": "q_o7gzOdfLZi"
      },
      "source": [
        "# Translate - Translator Service"
      ]
    },
    {
      "cell_type": "code",
      "metadata": {
        "id": "3FiZaQ4_q0PI"
      },
      "source": [
        "#API reference - \n",
        "# https://docs.microsoft.com/en-us/azure/cognitive-services/translator/reference/v3-0-reference\n",
        "\n",
        "base_url = 'api.cognitive.microsofttranslator.com'  #https://api.cognitive.microsofttranslator.com/\n",
        "key = 'xxxxx'"
      ],
      "execution_count": 1,
      "outputs": []
    },
    {
      "cell_type": "code",
      "metadata": {
        "colab": {
          "base_uri": "https://localhost:8080/"
        },
        "id": "ZXZ9Yt16rGGU",
        "outputId": "cca06a82-4664-4b0e-a530-24a7f8f2f44f"
      },
      "source": [
        "import urllib, urllib.parse, urllib.error, urllib.request, json, http.client\n",
        "\n",
        "headers = {\n",
        "    'Content-Type':'application/json',\n",
        "    'Ocp-Apim-Subscription-Key':key,\n",
        "    'Ocp-Apim-Subscription-Region':'centralindia'\n",
        "}\n",
        "\n",
        "body = [\n",
        "  {\n",
        "      'Text':'Hola mundo, ¿cómo están?'\n",
        "  },\n",
        "  {\n",
        "      'Text':'Bon jour, mon amie!'\n",
        "  },\n",
        "  {\n",
        "      'Text':'你好吗?'\n",
        "  }\n",
        "]\n",
        "\n",
        "params = urllib.parse.urlencode({\n",
        "    'api-version':'3.0',\n",
        "    'to':'de'\n",
        "})\n",
        "\n",
        "print(params)"
      ],
      "execution_count": 2,
      "outputs": [
        {
          "output_type": "stream",
          "text": [
            "api-version=3.0&to=de\n"
          ],
          "name": "stdout"
        }
      ]
    },
    {
      "cell_type": "code",
      "metadata": {
        "colab": {
          "base_uri": "https://localhost:8080/"
        },
        "id": "L8ITYIJXsLN7",
        "outputId": "ed47726c-c62b-43a7-eb2a-7ca23e3992ba"
      },
      "source": [
        "try:\n",
        "  conn = http.client.HTTPSConnection(base_url)\n",
        "  conn.request('POST', '/translate?%s&to=it&to=en' % params, str(body).encode('UTF-8'), headers)\n",
        "  response = conn.getresponse()\n",
        "  jsonData = response.read().decode('UTF-8')\n",
        "  data = json.loads(jsonData)\n",
        "  print(json.dumps(data, indent = 2))\n",
        "  conn.close()\n",
        "except Exception as ex:\n",
        "  print(ex)"
      ],
      "execution_count": 5,
      "outputs": [
        {
          "output_type": "stream",
          "text": [
            "[\n",
            "  {\n",
            "    \"detectedLanguage\": {\n",
            "      \"language\": \"es\",\n",
            "      \"score\": 1.0\n",
            "    },\n",
            "    \"translations\": [\n",
            "      {\n",
            "        \"text\": \"Hallo Welt, wie geht es dir?\",\n",
            "        \"to\": \"de\"\n",
            "      },\n",
            "      {\n",
            "        \"text\": \"Ciao mondo, come stai?\",\n",
            "        \"to\": \"it\"\n",
            "      },\n",
            "      {\n",
            "        \"text\": \"Hi world, how are you?\",\n",
            "        \"to\": \"en\"\n",
            "      }\n",
            "    ]\n",
            "  },\n",
            "  {\n",
            "    \"detectedLanguage\": {\n",
            "      \"language\": \"fr\",\n",
            "      \"score\": 1.0\n",
            "    },\n",
            "    \"translations\": [\n",
            "      {\n",
            "        \"text\": \"Guter Tag, meine Freundin!\",\n",
            "        \"to\": \"de\"\n",
            "      },\n",
            "      {\n",
            "        \"text\": \"Buona giornata, amico mio!\",\n",
            "        \"to\": \"it\"\n",
            "      },\n",
            "      {\n",
            "        \"text\": \"Good day, my friend!\",\n",
            "        \"to\": \"en\"\n",
            "      }\n",
            "    ]\n",
            "  },\n",
            "  {\n",
            "    \"detectedLanguage\": {\n",
            "      \"language\": \"zh-Hans\",\n",
            "      \"score\": 1.0\n",
            "    },\n",
            "    \"translations\": [\n",
            "      {\n",
            "        \"text\": \"Wie geht es dir?\",\n",
            "        \"to\": \"de\"\n",
            "      },\n",
            "      {\n",
            "        \"text\": \"Come stai?\",\n",
            "        \"to\": \"it\"\n",
            "      },\n",
            "      {\n",
            "        \"text\": \"How are you?\",\n",
            "        \"to\": \"en\"\n",
            "      }\n",
            "    ]\n",
            "  }\n",
            "]\n"
          ],
          "name": "stdout"
        }
      ]
    },
    {
      "cell_type": "markdown",
      "metadata": {
        "id": "WkLJYDwVfPic"
      },
      "source": [
        "# Identify Languages - Text Analytics service"
      ]
    },
    {
      "cell_type": "code",
      "metadata": {
        "id": "7L1AM6SFs_9r"
      },
      "source": [
        "ta_key = 'xxxxx'\n",
        "ta_base_url = 'shobin-ta.cognitiveservices.azure.com'  #https://api.cognitive.microsofttranslator.com/"
      ],
      "execution_count": 10,
      "outputs": []
    },
    {
      "cell_type": "code",
      "metadata": {
        "id": "nxGMwpcLfidQ"
      },
      "source": [
        "ta_headers = {\n",
        "    'Content-Type':'application/json',\n",
        "    'Ocp-Apim-Subscription-Key':ta_key,\n",
        "}\n",
        "\n",
        "ta_body = {\n",
        "    'documents':[\n",
        "      {\n",
        "          'id':'1',\n",
        "          'text':'Hola a todos'\n",
        "      }         \n",
        "    ]\n",
        "}\n",
        "\n",
        "ta_params = urllib.parse.urlencode({})"
      ],
      "execution_count": 11,
      "outputs": []
    },
    {
      "cell_type": "code",
      "metadata": {
        "colab": {
          "base_uri": "https://localhost:8080/"
        },
        "id": "D_dsA9XNf5VJ",
        "outputId": "944a7f3c-9d45-4c1a-82ce-f48d6a27641c"
      },
      "source": [
        "iso_name = 'en'\n",
        "\n",
        "try:\n",
        "  conn = http.client.HTTPSConnection(ta_base_url)\n",
        "  conn.request('POST', '/text/analytics/v2.1/languages?%s' % ta_params, str(ta_body), ta_headers)  \n",
        "  response = conn.getresponse()\n",
        "  jsonData = response.read().decode('UTF-8')\n",
        "  data = json.loads(jsonData)\n",
        "  #print(data)\n",
        "  print(json.dumps(data, indent = 2))\n",
        "  for document in data['documents']:\n",
        "    print('Document ' + document['id'])\n",
        "    for lan in document['detectedLanguages']:\n",
        "      iso_name = lan['iso6391Name']\n",
        "      print(' ' + lan['iso6391Name'])\n",
        "  conn.close()\n",
        "except Exception as ex:\n",
        "  print(ex)"
      ],
      "execution_count": 13,
      "outputs": [
        {
          "output_type": "stream",
          "text": [
            "{\n",
            "  \"documents\": [\n",
            "    {\n",
            "      \"id\": \"1\",\n",
            "      \"detectedLanguages\": [\n",
            "        {\n",
            "          \"name\": \"Spanish\",\n",
            "          \"iso6391Name\": \"es\",\n",
            "          \"score\": 1.0\n",
            "        }\n",
            "      ]\n",
            "    }\n",
            "  ],\n",
            "  \"errors\": []\n",
            "}\n",
            "Document 1\n",
            " es\n"
          ],
          "name": "stdout"
        }
      ]
    },
    {
      "cell_type": "code",
      "metadata": {
        "id": "8shC-mC4gkJT"
      },
      "source": [
        "params = urllib.parse.urlencode({\n",
        "    'api-version':'3.0',\n",
        "    'to':'de',\n",
        "    'from':iso_name\n",
        "})"
      ],
      "execution_count": 11,
      "outputs": []
    },
    {
      "cell_type": "code",
      "metadata": {
        "id": "T_rn39G9igX2"
      },
      "source": [
        ""
      ],
      "execution_count": null,
      "outputs": []
    }
  ]
}